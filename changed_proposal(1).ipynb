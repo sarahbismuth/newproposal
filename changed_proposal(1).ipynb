{
 "cells": [
  {
   "cell_type": "markdown",
   "metadata": {},
   "source": [
    "# Final Project Proposal:\n",
    "\n",
    "# Introduction\n",
    "Gun ownership is a right in the United State constitution .Indeed American own more guns per capital than residents of any other countries, gun Homicide rates are much higher than the rest of the world, and we can observe an increase of the frequency of mass shooting(How US gun culture compares with the world, CNN). Other the years Gun control was and is a politically mitigate topic, with people having different strong opinion on it. Whenever we are talking about Homicide ,Suicide or mass shooting the shooters profile are diverse, some are young, some have mental illness or some have gun experience and training, which make difficult to target a specific category of massive gun shooter in order to stop them. Moreover whatever they are victim themselves or someone close to them, or shooter young are extremely affected by this gun violence ,Among the world's wealthy nations, the United States accounts for 91 percent of all firearm deaths of children younger than 15(The Washington post),with a majority of mass shooting occurring in school and university, places where youth are supposed to be safe. Thus, this liberty of having a gun in the US can create a complete disequilibrium in the life of US citizen, and must be a subject to look at carefully.\n",
    "Meaniwhile, as most of the international students like us who study in New York come from the countries that people have no premission to own a gun, so we have never met the gun problems before, what the international students' parents care most is the safety problem and gun problem. So being a international students studying and living in New York city, what is the shooting situations in New York and what should we do can let us be safer to avoid the possibility of being involved in a shooting, is concered by most of the international students and their parents. We will use our data analaysis result help them to reduce their worries. \n",
    "\n",
    "# Research Questions\n",
    "We currently have two questions here for the data analysis in this project:\n",
    "1.What are the more popular profile of shooter?\n",
    "2.who should be the type of people we should keep an eyes on when they are buying a gun and who are the people that are impacted by mass shooting?（We may use a decision tree here）\n",
    "3.As an international student who studying in New York City, how are you affected by this phenomenon and what precautions can you take to be safer?\n",
    "\n",
    "\n",
    "# Data to be Used\n",
    "The results of this research would first able authorities to better targeted who are susceptible to use their gun in a wrong way ,for instance we could create test that they have to succeed before being able to buy a gun. Furthermore, analyzing these data can raise awareness to different level; awareness of the government in order to control this liberty and the right of the gun control, awareness that things must change. The result can also be implemented in the real world in order to find precautions that international students can take to reduce their shooting risks. After all, we will find solutions to our research problems by the data analysis in this project.\n",
    "The first sources of my data will be a csv file acquire on Kaggle that is called Stanford Mass Shootings in America (https://www.kaggle.com/carlosparadis/stanford-msa/version/1) .We will use these data converting it into a data Frame in Python. \n",
    "The second source of data is an API data resource(https://data.cityofnewyork.us/api/views/833y-fsy8) from the gorvenment website that have describe 18 aspects of the shooting cases that happened in New York City.We will read this json dataset and then select some part of the data that we think meaningful and will help us to find solutions to our research questions to do some analysis.\n",
    "\n",
    "# Approach\n",
    "To make our proposed project to be realistic and feasible, , we will do many calculations in order to have information about the shooter and the youth that are affected. We will compute the average of the average age of the shooter, we will compute the count of the sex of the shooter to see if there is a greater tendency of male or female shooter. We will see if there is a relationship between the number of victims and the military experience, display a scatter plot. compute the average of victim for each state. I will use wordcloud to see the proportion of type of gun and create the powerpoint in python \n",
    "\n",
    "We will extract the useful dataset from the API dataset, and do some bar chart and line chart do make some conclusions.\n",
    "\n",
    "We will put something that we have never learned in class named wordcloud to do some visualization for the dataset.\n",
    "\n",
    "Links for the research of the subject.\n",
    "https://www.washingtonpost.com/news/wonk/wp/2018/03/23/more-than-26000-children-and-teens-have-been-killed-in-gun-violence-since-1999/\n",
    "https://www.cnn.com/2017/10/03/americas/us-gun-statistics/index.html https://www.bbc.com/news/world-us-canada-41488081\n",
    "\n",
    "\n"
   ]
  },
  {
   "cell_type": "code",
   "execution_count": null,
   "metadata": {},
   "outputs": [],
   "source": []
  }
 ],
 "metadata": {
  "kernelspec": {
   "display_name": "Python 3",
   "language": "python",
   "name": "python3"
  },
  "language_info": {
   "codemirror_mode": {
    "name": "ipython",
    "version": 3
   },
   "file_extension": ".py",
   "mimetype": "text/x-python",
   "name": "python",
   "nbconvert_exporter": "python",
   "pygments_lexer": "ipython3",
   "version": "3.7.3"
  }
 },
 "nbformat": 4,
 "nbformat_minor": 2
}
